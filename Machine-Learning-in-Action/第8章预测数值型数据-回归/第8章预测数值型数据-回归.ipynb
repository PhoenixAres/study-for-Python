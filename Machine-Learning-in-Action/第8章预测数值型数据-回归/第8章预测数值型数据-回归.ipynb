{
 "cells": [
  {
   "cell_type": "markdown",
   "metadata": {},
   "source": [
    "# 1. 用线性回归找到最佳拟合直线"
   ]
  },
  {
   "cell_type": "markdown",
   "metadata": {},
   "source": [
    "线性回归\n",
    "\n",
    "优点：结果易于理解，计算上不复杂\n",
    "\n",
    "缺点：对非线性的数据拟合不好\n",
    "\n",
    "适用数据类型：数值型和标称型数据"
   ]
  },
  {
   "cell_type": "markdown",
   "metadata": {},
   "source": [
    "回归的目的是预测数值型的目标值，首先要根据输入写出一个目标值的计算公式，即回归方程(regression equation)。\n",
    "\n",
    "其中输入数据在方程中的系数称作回归系数(regression weights)，求这些回归系数的过程就是回归。\n",
    "\n",
    "回归的一般方法：\n",
    "\n",
    "（1）收集数据：采用任意方法收集数据\n",
    "\n",
    "（2）准备数据：回归需要数值型数据，标称型数据将被转成二值型数据\n",
    "\n",
    "（3）分析数据：绘出数据的可视化二维图将有助于对数据做出理解和分析，在采用缩减法求得新回归系数之后，可以将新拟合线绘在图上作为对比\n",
    "\n",
    "（4）训练算法：找到回归系数\n",
    "\n",
    "（5）测试算法：使用$R^2$或者预测值和数据的拟合度，来分析模型的效果\n",
    "\n",
    "（6）使用算法：使用回归，可以在给定输入的时候预测出一个数值，这是对分类方法的提升，因为这样可以预测连续型数据而不仅仅是离散的类别标签"
   ]
  },
  {
   "cell_type": "markdown",
   "metadata": {},
   "source": [
    "假定输入数据存放在矩阵$X$中，而回归系数放在向量$w$中，那么对于给定的数据$X_1$，预测结果将会通过$Y_1 = X_1^Tw$给出。\n",
    "\n",
    "如何找出$w$，一个常用的方法是找出使误差最小的$w$，这里的误差是指预测$y$值和真实$y$值之间的差值\n",
    "\n",
    "使用该误差的简单累加将使得正差值和负差值相互抵消，于是采用平方误差：\n",
    "\n",
    "$$ \\sum_{i=1}^{m}(y_i - x_i^Tw)^2$$\n",
    "\n",
    "用矩阵表示可以写作：\n",
    "\n",
    "$$ (y-Xw)^T(y-Xw)$$\n",
    "\n",
    "如果对$w$求导，得到$X^T(Y-Xw)$，令其等于0，解出$w$如下：\n",
    "\n",
    "$$ \\hat w = (X^TX)^{-1}X^Ty$$\n",
    "\n",
    "$w$上方的小标记表示，这是当前可以估计出的$w$的最优解。通过矩阵方法求解最佳的$w$的方法，称为OLS，即普通最小二乘法(ordinary least squares)。\n",
    "\n",
    "上述的最佳$w$求解是统计学中的常见问题，除了矩阵方法外还有很多方法（如梯度下降）可以解决。"
   ]
  },
  {
   "cell_type": "code",
   "execution_count": 1,
   "metadata": {},
   "outputs": [
    {
     "data": {
      "text/plain": [
       "[[1.0, 0.067732], [1.0, 0.42781]]"
      ]
     },
     "execution_count": 1,
     "metadata": {},
     "output_type": "execute_result"
    }
   ],
   "source": [
    "from numpy import *\n",
    "\n",
    "def loadDataSet(filename):\n",
    "    dataMat = []\n",
    "    labelMat = []\n",
    "    with open(filename) as fr:\n",
    "        for line in fr.readlines():\n",
    "            numFeat = len(line.split('\\t')) - 1\n",
    "            lineArr = []\n",
    "            curline = line.strip().split('\\t')\n",
    "            for i in range(numFeat):\n",
    "                lineArr.append(float(curline[i]))\n",
    "            dataMat.append(lineArr)\n",
    "            labelMat.append([float(curline[-1])])\n",
    "    return dataMat, labelMat\n",
    "\n",
    "def standRegres(xArr, yArr):\n",
    "    xMat = array(xArr)\n",
    "    yMat = array(yArr)\n",
    "    xTx = dot(xMat.T, xMat)\n",
    "    ws = dot(linalg.pinv(xTx), dot(xMat.T, yMat))\n",
    "    return ws\n",
    "\n",
    "xArr, yArr = loadDataSet('ex0.txt')\n",
    "xArr[0:2]"
   ]
  },
  {
   "cell_type": "code",
   "execution_count": 2,
   "metadata": {},
   "outputs": [
    {
     "data": {
      "text/plain": [
       "array([[3.00774324],\n",
       "       [1.69532264]])"
      ]
     },
     "execution_count": 2,
     "metadata": {},
     "output_type": "execute_result"
    }
   ],
   "source": [
    "ws = standRegres(xArr, yArr)\n",
    "ws"
   ]
  },
  {
   "cell_type": "code",
   "execution_count": 3,
   "metadata": {},
   "outputs": [
    {
     "data": {
      "image/png": "[encoded data removed]",
      "text/plain": [
       "<Figure size 432x288 with 1 Axes>"
      ]
     },
     "metadata": {
      "needs_background": "light"
     },
     "output_type": "display_data"
    }
   ],
   "source": [
    "import matplotlib.pyplot as plt\n",
    "\n",
    "xMat = array(xArr)\n",
    "yMat = array(yArr)\n",
    "yHat = dot(xMat, ws)\n",
    "fig = plt.figure()\n",
    "ax = fig.add_subplot(111)\n",
    "ax.scatter(xMat[:, 1].flatten(), yMat[:, 0].flatten())\n",
    "xCopy = xMat.copy()\n",
    "xCopy.sort(0)\n",
    "yHat = dot(xCopy, ws)\n",
    "ax.plot(xCopy[:, 1], yHat)\n",
    "plt.show()"
   ]
  },
  {
   "cell_type": "code",
   "execution_count": 4,
   "metadata": {},
   "outputs": [
    {
     "data": {
      "text/plain": [
       "array([[1.        , 0.98647356],\n",
       "       [0.98647356, 1.        ]])"
      ]
     },
     "execution_count": 4,
     "metadata": {},
     "output_type": "execute_result"
    }
   ],
   "source": [
    "yHat = dot(xMat, ws)\n",
    "corrcoef(yHat.T, yMat.T)"
   ]
  },
  {
   "cell_type": "markdown",
   "metadata": {},
   "source": [
    "NumPy库中，corrcoef(yEstimate, yActual)用于计算预测值和真实值的相关性。\n",
    "\n",
    "上述结果矩阵中，对角线上数据是1.0，因为yMat和自己的匹配是完美的，而yHat和yMat的相关系数是0.98。"
   ]
  },
  {
   "cell_type": "markdown",
   "metadata": {},
   "source": [
    "# 2. 局部加权线性回归"
   ]
  },
  {
   "cell_type": "markdown",
   "metadata": {},
   "source": [
    "线性回归的一个问题是有可能出现欠拟合现象，因为它求的是具有最小均方误差的无偏估计。\n",
    "\n",
    "如果模型欠拟合将不能取得最好的预测效果，所以有些方法允许在估计中引入一些偏差，从而降低预测的均方误差。\n",
    "\n",
    "其中一个方法是局部加权线性回归(Locally Weighted Linear Regression，LWLR)。\n",
    "\n",
    "在该算法中，我们给待预测点附近的每个点赋予一定的权重，在这个子集上基于最小均方差来进行普通的回归。\n",
    "\n",
    "与kNN一样，这种算法每次预测均需要事先选取出对应的数据子集。\n",
    "\n",
    "该算法解出的回归系数$w$的形式如下：\n",
    "\n",
    "$$ \\hat w = (X^TWX)^{-1}X^TWy $$\n",
    "\n",
    "其中$W$是一个矩阵，用来给每个数据点赋予权重。\n",
    "\n",
    "LWLR使用“核”（与支持向量机中的核类似）来对附近的点赋予更高的权重。核的类型可以自由选择，最常用的核就是高斯核，对应的权重如下：\n",
    "\n",
    "$$ W(i,i) = exp(\\frac {|x^{(i)} - x|} {-2k^2} ) $$\n",
    "\n",
    "这样就构建了一个只含对角元素的权重矩阵$W$，并且点$x$与$x(i)$越近，$W(i,i)$将会越大。\n",
    "\n",
    "上述公式包含一个需要用户指定的参数k，它决定了对附近的点赋予多大的权重，这也是使用LWLR时唯一需要考虑的参数。\n",
    "\n",
    "注：与kNN一样，该加权模型认为样本点距离越近，越可能符合同一个线性模型。"
   ]
  },
  {
   "cell_type": "code",
   "execution_count": 5,
   "metadata": {},
   "outputs": [
    {
     "data": {
      "text/plain": [
       "[3.176513]"
      ]
     },
     "execution_count": 5,
     "metadata": {},
     "output_type": "execute_result"
    }
   ],
   "source": [
    "def lwlr(testPoint, xArr, yArr, k = 1.0):\n",
    "    xMat = array(xArr)\n",
    "    yMat = array(yArr)\n",
    "    m = shape(xMat)[0]\n",
    "    weights = eye(m)             #创建对角矩阵\n",
    "    for j in range(m):\n",
    "        diffMat = testPoint - xMat[j, :]\n",
    "        weights[j, j] = exp(dot(diffMat, diffMat) / (-2.0 * k**2))  #权重值大小以指数级衰减\n",
    "    xTx = dot(xMat.T, dot(weights, xMat))\n",
    "    ws = dot(linalg.pinv(xTx), dot(xMat.T, dot(weights, yMat)))\n",
    "    return dot(testPoint, ws)\n",
    "\n",
    "def lwlrTest(testArr, xArr, yArr, k = 1.0):\n",
    "    m = shape(testArr)[0]\n",
    "    yHat = zeros(m)\n",
    "    for i in range(m):\n",
    "        yHat[i] = lwlr(testArr[i], xArr, yArr, k)\n",
    "    return yHat\n",
    "\n",
    "xArr, yArr = loadDataSet('ex0.txt')\n",
    "yArr[0]"
   ]
  },
  {
   "cell_type": "code",
   "execution_count": 6,
   "metadata": {},
   "outputs": [
    {
     "data": {
      "text/plain": [
       "array([3.12204471])"
      ]
     },
     "execution_count": 6,
     "metadata": {},
     "output_type": "execute_result"
    }
   ],
   "source": [
    "lwlr(xArr[0], xArr, yArr, 1.0)"
   ]
  },
  {
   "cell_type": "code",
   "execution_count": 7,
   "metadata": {},
   "outputs": [
    {
     "data": {
      "text/plain": [
       "array([3.20175729])"
      ]
     },
     "execution_count": 7,
     "metadata": {},
     "output_type": "execute_result"
    }
   ],
   "source": [
    "lwlr(xArr[0], xArr, yArr, 0.001)"
   ]
  },
  {
   "cell_type": "code",
   "execution_count": 8,
   "metadata": {},
   "outputs": [
    {
     "data": {
      "image/png": "[encoded data removed]",
      "text/plain": [
       "<Figure size 432x288 with 1 Axes>"
      ]
     },
     "metadata": {
      "needs_background": "light"
     },
     "output_type": "display_data"
    }
   ],
   "source": [
    "yHat = lwlrTest(xArr, xArr, yArr, 1.0)\n",
    "xMat = array(xArr)\n",
    "srtInd = xMat[:, 1].argsort(0)\n",
    "xSort = xMat[srtInd]\n",
    "fig = plt.figure()\n",
    "ax = fig.add_subplot(111)\n",
    "ax.plot(xSort[:, 1], yHat[srtInd])\n",
    "ax.scatter(xMat[:, 1].flatten(), array(yArr).flatten(), s=2, c='red')\n",
    "plt.show()"
   ]
  },
  {
   "cell_type": "code",
   "execution_count": 9,
   "metadata": {},
   "outputs": [
    {
     "data": {
      "image/png": "[encoded data removed]",
      "text/plain": [
       "<Figure size 432x288 with 1 Axes>"
      ]
     },
     "metadata": {
      "needs_background": "light"
     },
     "output_type": "display_data"
    }
   ],
   "source": [
    "yHat = lwlrTest(xArr, xArr, yArr, 0.01)\n",
    "xMat = array(xArr)\n",
    "srtInd = xMat[:, 1].argsort(0)\n",
    "xSort = xMat[srtInd]\n",
    "fig = plt.figure()\n",
    "ax = fig.add_subplot(111)\n",
    "ax.plot(xSort[:, 1], yHat[srtInd])\n",
    "ax.scatter(xMat[:, 1].flatten(), array(yArr).flatten(), s=2, c='red')\n",
    "plt.show()"
   ]
  },
  {
   "cell_type": "code",
   "execution_count": 10,
   "metadata": {},
   "outputs": [
    {
     "data": {
      "image/png": "[encoded data removed]",
      "text/plain": [
       "<Figure size 432x288 with 1 Axes>"
      ]
     },
     "metadata": {
      "needs_background": "light"
     },
     "output_type": "display_data"
    }
   ],
   "source": [
    "yHat = lwlrTest(xArr, xArr, yArr, 0.003)\n",
    "xMat = array(xArr)\n",
    "srtInd = xMat[:, 1].argsort(0)\n",
    "xSort = xMat[srtInd]\n",
    "fig = plt.figure()\n",
    "ax = fig.add_subplot(111)\n",
    "ax.plot(xSort[:, 1], yHat[srtInd])\n",
    "ax.scatter(xMat[:, 1].flatten(), array(yArr).flatten(), s=2, c='red')\n",
    "plt.show()"
   ]
  },
  {
   "cell_type": "markdown",
   "metadata": {},
   "source": [
    "观察上面3张图，可以发现，当k=1.0时，权重很大，如同将所有的数据视为等权重，得出的最佳拟合直线与标准的回归一致。\n",
    "\n",
    "当k=0.01时，得到了非常好的效果，当k=0.003时，纳入了太多的噪声点，拟合的直线与数据点过于贴近，发生了过拟合现象。"
   ]
  },
  {
   "cell_type": "markdown",
   "metadata": {},
   "source": [
    "局部加权线性回归也存在一个问题，即增加了计算量，因为它对每个点做预测时都必须使用整个数据集。"
   ]
  },
  {
   "cell_type": "markdown",
   "metadata": {},
   "source": [
    "# 3. 示例：预测鲍鱼的年龄"
   ]
  },
  {
   "cell_type": "code",
   "execution_count": 11,
   "metadata": {},
   "outputs": [
    {
     "data": {
      "text/plain": [
       "56.78315057916596"
      ]
     },
     "execution_count": 11,
     "metadata": {},
     "output_type": "execute_result"
    }
   ],
   "source": [
    "def rssError(yArr, yHatArr):\n",
    "    return ((yArr - yHatArr)**2).sum()\n",
    "\n",
    "abX, abY = loadDataSet('abalone.txt')\n",
    "yHat01 = lwlrTest(abX[0:99], abX[0:99], abY[0:99], 0.1)\n",
    "yHat1 = lwlrTest(abX[0:99], abX[0:99], abY[0:99], 1)\n",
    "yHat10 = lwlrTest(abX[0:99], abX[0:99], abY[0:99], 10)\n",
    "rssError(abY[0:99], array([yHat01]).T)"
   ]
  },
  {
   "cell_type": "code",
   "execution_count": 13,
   "metadata": {},
   "outputs": [
    {
     "data": {
      "text/plain": [
       "429.8905618701982"
      ]
     },
     "execution_count": 13,
     "metadata": {},
     "output_type": "execute_result"
    }
   ],
   "source": [
    "rssError(abY[0:99], array([yHat1]).T)"
   ]
  },
  {
   "cell_type": "code",
   "execution_count": 14,
   "metadata": {},
   "outputs": [
    {
     "data": {
      "text/plain": [
       "549.118170882602"
      ]
     },
     "execution_count": 14,
     "metadata": {},
     "output_type": "execute_result"
    }
   ],
   "source": [
    "rssError(abY[0:99], array([yHat10]).T)"
   ]
  },
  {
   "cell_type": "code",
   "execution_count": 15,
   "metadata": {},
   "outputs": [
    {
     "data": {
      "text/plain": [
       "8640.351110971325"
      ]
     },
     "execution_count": 15,
     "metadata": {},
     "output_type": "execute_result"
    }
   ],
   "source": [
    "yHat01 = lwlrTest(abX[100:199], abX[0:99], abY[0:99], 0.1)\n",
    "rssError(abY[100:199], array([yHat01]).T)"
   ]
  },
  {
   "cell_type": "code",
   "execution_count": 16,
   "metadata": {},
   "outputs": [
    {
     "data": {
      "text/plain": [
       "573.5261441899102"
      ]
     },
     "execution_count": 16,
     "metadata": {},
     "output_type": "execute_result"
    }
   ],
   "source": [
    "yHat1 = lwlrTest(abX[100:199], abX[0:99], abY[0:99], 1)\n",
    "rssError(abY[100:199], array([yHat1]).T)"
   ]
  },
  {
   "cell_type": "code",
   "execution_count": 17,
   "metadata": {},
   "outputs": [
    {
     "data": {
      "text/plain": [
       "517.5711905382409"
      ]
     },
     "execution_count": 17,
     "metadata": {},
     "output_type": "execute_result"
    }
   ],
   "source": [
    "yHat10 = lwlrTest(abX[100:199], abX[0:99], abY[0:99], 10)\n",
    "rssError(abY[100:199], array([yHat10]).T)"
   ]
  },
  {
   "cell_type": "markdown",
   "metadata": {},
   "source": [
    "可以看到，使用较小的核在训练集上将得到较低的误差，但对新数据不一定能达到最好的效果，因为发生了过拟合现象。\n",
    "\n",
    "而核大于等于10时的测试误差最小，但它在训练集上的误差却是最大的。\n",
    "\n",
    "接下来，再和简单的线性回归做个比较："
   ]
  },
  {
   "cell_type": "code",
   "execution_count": 18,
   "metadata": {},
   "outputs": [
    {
     "data": {
      "text/plain": [
       "518.636315324516"
      ]
     },
     "execution_count": 18,
     "metadata": {},
     "output_type": "execute_result"
    }
   ],
   "source": [
    "ws = standRegres(abX[0:99], abY[0:99])\n",
    "yHat = dot(array(abX[100:199]), ws)\n",
    "rssError(abY[100:199], array([yHat]).T)"
   ]
  },
  {
   "cell_type": "markdown",
   "metadata": {},
   "source": [
    "简单线性回归达到了与局部加权线性回归类似的效果，这也表明一点，必须在未知数据上比较效果才能选取到最佳模型。"
   ]
  },
  {
   "cell_type": "markdown",
   "metadata": {},
   "source": [
    "# 4. 缩减系数来“理解”数据"
   ]
  },
  {
   "cell_type": "markdown",
   "metadata": {},
   "source": [
    "如果数据的特征比样本点还多，就不能用之前的方法，因为此时输入矩阵$X$将不是满秩矩阵，此时求逆会出现问题。\n",
    "\n",
    "为了解决这个问题，引入了岭回归(ridge regression)的概念。"
   ]
  },
  {
   "cell_type": "markdown",
   "metadata": {},
   "source": [
    "## 4.1 岭回归"
   ]
  },
  {
   "cell_type": "markdown",
   "metadata": {},
   "source": [
    "岭回归就是在矩阵$X^TX$上加一个$\\lambda I$从而使得矩阵非奇异，进而能对$X^TX + \\lambda I$求逆。\n",
    "\n",
    "其中矩阵$I$是一个$m \\times m$的单位矩阵，此时，回归系数的计算公式会变成：\n",
    "\n",
    "$$ \\hat w = (X^TX + \\lambda I)^{-1}X^Ty $$\n",
    "\n",
    "岭回归最先用来处理特征数多于样本数的情况，现在也用于在估计中加入偏差，从而得到更好的估计。\n",
    "\n",
    "这里通过引入$\\lambda$来限制了所有$w$之和，通过引入该惩罚项，能够减少不重要的参数，这个技术在统计学中称为缩减(shrinkage)。\n",
    "\n",
    "缩减方法不仅可以去掉不重要的参数，还可以取得更好的预测效果。"
   ]
  },
  {
   "cell_type": "markdown",
   "metadata": {},
   "source": [
    "获取数据后，首先抽取一部分数据用于测试，剩余的作为训练集用于训练参数$w$，训练完毕后在测试集上测试预测性能。\n",
    "\n",
    "通过选取不同的$\\lambda$来重复上述测试过程，最终得到一个使预测误差最小的$\\lambda$。"
   ]
  },
  {
   "cell_type": "code",
   "execution_count": 19,
   "metadata": {},
   "outputs": [
    {
     "data": {
      "image/png": "[encoded data removed]",
      "text/plain": [
       "<Figure size 432x288 with 1 Axes>"
      ]
     },
     "metadata": {
      "needs_background": "light"
     },
     "output_type": "display_data"
    }
   ],
   "source": [
    "def ridgeRegres(xMat, yMat, lam = 0.2):\n",
    "    xTx = dot(xMat.T, xMat)\n",
    "    denom = xTx + eye(shape(xMat)[1]) * lam\n",
    "    ws = dot(linalg.pinv(denom), dot(xMat.T, yMat))\n",
    "    return ws\n",
    "\n",
    "def ridgeTest(xArr, yArr):\n",
    "    xMat = array(xArr)\n",
    "    yMat = array(yArr)\n",
    "    yMean = mean(yMat, 0)\n",
    "    yMat = yMat - yMean\n",
    "    xMeans = mean(xMat, 0)\n",
    "    xVar = var(xMat, 0)\n",
    "    xMat = (xMat - xMeans) / xVar       #数据标准化\n",
    "    numTestPts = 30\n",
    "    wMat = zeros((numTestPts, shape(xMat)[1]))\n",
    "    for i in range(numTestPts):\n",
    "        ws = ridgeRegres(xMat, yMat, exp(i-10))\n",
    "        wMat[i, :] = ws.T\n",
    "    return wMat\n",
    "\n",
    "abX, abY = loadDataSet('abalone.txt')\n",
    "ridgeWeights = ridgeTest(abX, abY)\n",
    "fig = plt.figure()\n",
    "ax = fig.add_subplot(111)\n",
    "ax.plot(ridgeWeights)\n",
    "plt.show()"
   ]
  },
  {
   "cell_type": "markdown",
   "metadata": {},
   "source": [
    "上图绘出了回归系数与$log(\\lambda)$的关系，在最左边，即$\\lambda$最小时，可以得到所有系数的原始值（与线性回归一致）；而在右边，系数全部缩减为0。\n",
    "\n",
    "在中间部分的某值将可以取得最好的预测效果。为了定量地找到最佳参数值，还需要进行交叉验证。\n",
    "\n",
    "另外，要判断哪些变量对结果预测最具有影响力，只需在上图中观察它们对应的系数大小即可。"
   ]
  },
  {
   "cell_type": "markdown",
   "metadata": {},
   "source": [
    "还有一些其他的缩减方法，如lasso、LAR、PCA回归以及子集选择等，和岭回归一样，这些方法不仅可以提高预测精确率，还可以解释回归系数。"
   ]
  },
  {
   "cell_type": "markdown",
   "metadata": {},
   "source": [
    "## 4.2 lasso"
   ]
  },
  {
   "cell_type": "markdown",
   "metadata": {},
   "source": [
    "不难证明，在增加如下约束时，普通的最小二乘法回归会得到与岭回归的一样的公式：\n",
    "\n",
    "$$ \\sum_{k=1}^{n}w_k^2 \\le \\lambda $$\n",
    "\n",
    "上式限定了所有回归系数的平方和不能大于$\\lambda$。\n",
    "\n",
    "使用普通的最小二乘法回归在当两个或更多的特征相关时，可能会得出一个很大的正系数和一个很大的负系数，正是因为上述条件，使用岭回归可以避免该问题。\n",
    "\n",
    "与岭回归类似，另一个缩减方法lasso也对回归系数做了限定，对应的约束条件如下：\n",
    "\n",
    "$$ \\sum_{k=1}^{n}|w_k| \\le \\lambda $$\n",
    "\n",
    "唯一的不同点在于，这个约束条件使用绝对值取代了平方和，这样做的结果是：在$\\lambda$足够小时，一些系数会因此被迫缩减到0。\n",
    "\n",
    "同时，这样做的代价是极大地增大了计算复杂度（为了在这个新的约束条件下解出回归系数，需要使用二次规划算法）。"
   ]
  },
  {
   "cell_type": "markdown",
   "metadata": {},
   "source": [
    "## 4.3 前向逐步回归"
   ]
  },
  {
   "cell_type": "markdown",
   "metadata": {},
   "source": [
    "前向逐步回归算法可以得到与lasso差不多的效果，但更加简单，它属于一种贪心算法。\n",
    "\n",
    "一开始，所有的权重设为1，然后每一步所做的决策是对某个权重增加或减少一个很小的值，伪代码如下：\n",
    "\n",
    "    数据标准化，使其分布满足0均值和单位方差\n",
    "    在每轮迭代中：\n",
    "        设置当前最小误差lowestError为正无穷\n",
    "        对每个特征：\n",
    "            增大或缩小：\n",
    "                改变一个系数得到一个新的W\n",
    "                计算新W下的误差\n",
    "                如果误差Error小于当前最小误差lowestError：设置Wbest等于当前的W\n",
    "            将W设置为新的Wbest"
   ]
  },
  {
   "cell_type": "code",
   "execution_count": 22,
   "metadata": {},
   "outputs": [
    {
     "data": {
      "text/plain": [
       "array([[ 0.  ,  0.  ,  0.  , ...,  0.  ,  0.  ,  0.  ],\n",
       "       [ 0.  ,  0.  ,  0.  , ...,  0.  ,  0.  ,  0.  ],\n",
       "       [ 0.  ,  0.  ,  0.  , ...,  0.  ,  0.  ,  0.  ],\n",
       "       ...,\n",
       "       [ 0.05,  0.  ,  0.09, ..., -0.64,  0.  ,  0.36],\n",
       "       [ 0.04,  0.  ,  0.09, ..., -0.64,  0.  ,  0.36],\n",
       "       [ 0.05,  0.  ,  0.09, ..., -0.64,  0.  ,  0.36]])"
      ]
     },
     "execution_count": 22,
     "metadata": {},
     "output_type": "execute_result"
    }
   ],
   "source": [
    "def stageWise(xArr, yArr, eps = 0.01, numIt = 100):\n",
    "    xMat = array(xArr)\n",
    "    yMat = array(yArr)\n",
    "    yMean = mean(yMat, 0)\n",
    "    yMat = yMat - yMean\n",
    "    xMeans = mean(xMat, 0)\n",
    "    xVar = var(xMat, 0)\n",
    "    xMat = (xMat - xMeans) / xVar\n",
    "    m, n = shape(xMat)\n",
    "    returnMat = zeros((numIt, n))\n",
    "    ws = zeros((n, 1))\n",
    "    wsMax = ws.copy()\n",
    "    for i in range(numIt):\n",
    "#         print(ws.T)\n",
    "        lowestError = inf\n",
    "        for j in range(n):\n",
    "            for sign in [-1, 1]:\n",
    "                wsTest = ws.copy()\n",
    "                wsTest[j] += eps * sign\n",
    "                yTest = dot(xMat, wsTest)\n",
    "                rssE = rssError(yMat, yTest)\n",
    "                if rssE < lowestError:\n",
    "                    lowestError = rssE\n",
    "                    wsMax = wsTest\n",
    "        ws = wsMax.copy()\n",
    "        returnMat[i, :] = ws.T\n",
    "    return returnMat\n",
    "\n",
    "xArr, yArr = loadDataSet('abalone.txt')\n",
    "stageWise(xArr, yArr, 0.01, 200)"
   ]
  },
  {
   "cell_type": "code",
   "execution_count": 23,
   "metadata": {},
   "outputs": [
    {
     "data": {
      "text/plain": [
       "array([[ 0.   ,  0.   ,  0.   , ...,  0.   ,  0.   ,  0.   ],\n",
       "       [ 0.   ,  0.   ,  0.   , ...,  0.   ,  0.   ,  0.   ],\n",
       "       [ 0.   ,  0.   ,  0.   , ...,  0.   ,  0.   ,  0.   ],\n",
       "       ...,\n",
       "       [ 0.043, -0.011,  0.12 , ..., -0.963, -0.105,  0.187],\n",
       "       [ 0.044, -0.011,  0.12 , ..., -0.963, -0.105,  0.187],\n",
       "       [ 0.043, -0.011,  0.12 , ..., -0.963, -0.105,  0.187]])"
      ]
     },
     "execution_count": 23,
     "metadata": {},
     "output_type": "execute_result"
    }
   ],
   "source": [
    "stageWise(xArr, yArr, 0.001, 5000)"
   ]
  },
  {
   "cell_type": "markdown",
   "metadata": {},
   "source": [
    "接下来看看最小二乘法的结果："
   ]
  },
  {
   "cell_type": "code",
   "execution_count": 24,
   "metadata": {},
   "outputs": [
    {
     "data": {
      "text/plain": [
       "array([[ 0.0430442 , -0.02274163,  0.13214087,  0.02075182,  2.22403814,\n",
       "        -0.99895312, -0.11725427,  0.16622915]])"
      ]
     },
     "execution_count": 24,
     "metadata": {},
     "output_type": "execute_result"
    }
   ],
   "source": [
    "xMat = array(xArr)\n",
    "yMat = array(yArr)\n",
    "yMean = mean(yMat, 0)\n",
    "yMat = yMat - yMean\n",
    "xMeans = mean(xMat, 0)\n",
    "xVar = var(xMat, 0)\n",
    "xMat = (xMat - xMeans) / xVar\n",
    "weights = standRegres(xMat, yMat)\n",
    "weights.T"
   ]
  },
  {
   "cell_type": "markdown",
   "metadata": {},
   "source": [
    "可以看到在5000次迭代以后，逐步线性回归算法与常规的最小二乘法效果类似。\n",
    "\n",
    "逐步线性回归算法的主要优点在于：它可以帮助人们理解现有的模型并做出改进。\n",
    "\n",
    "当构建了一个模型后，可以运行该算法找出重要的特征，这样能及时停止对不重要特征的收集。\n",
    "\n",
    "当应用缩减方法（如逐步线性回归或岭回归）时，模型也就增加了偏差(bias)，与此同时却减小了模型的方差。"
   ]
  }
 ],
 "metadata": {
  "kernelspec": {
   "display_name": "Python [conda env:tensorflow2.1]",
   "language": "python",
   "name": "conda-env-tensorflow2.1-py"
  },
  "language_info": {
   "codemirror_mode": {
    "name": "ipython",
    "version": 3
   },
   "file_extension": ".py",
   "mimetype": "text/x-python",
   "name": "python",
   "nbconvert_exporter": "python",
   "pygments_lexer": "ipython3",
   "version": "3.7.7"
  },
  "toc": {
   "base_numbering": 1,
   "nav_menu": {},
   "number_sections": true,
   "sideBar": true,
   "skip_h1_title": false,
   "title_cell": "Table of Contents",
   "title_sidebar": "Contents",
   "toc_cell": false,
   "toc_position": {},
   "toc_section_display": true,
   "toc_window_display": false
  }
 },
 "nbformat": 4,
 "nbformat_minor": 2
}
