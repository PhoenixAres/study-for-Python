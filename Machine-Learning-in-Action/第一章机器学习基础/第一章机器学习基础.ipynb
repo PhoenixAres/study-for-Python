{
 "cells": [
  {
   "cell_type": "markdown",
   "metadata": {},
   "source": [
    "# 1. 机器学习的主要任务"
   ]
  },
  {
   "cell_type": "markdown",
   "metadata": {},
   "source": [
    "监督学习：\n",
    "\n",
    "分类：将实例数据划分到合适的分类中\n",
    "\n",
    "回归：用于预测数据值类型\n",
    "       \n",
    "无监督学习：\n",
    "\n",
    "聚类：数据集合分成由类似的对象组成的多个类的过程\n",
    "        \n",
    "密度估计：寻找描述数据统计值的过程  \n",
    " "
   ]
  },
  {
   "cell_type": "markdown",
   "metadata": {},
   "source": [
    "# 2. 开发机器学习应用程序的步骤"
   ]
  },
  {
   "cell_type": "markdown",
   "metadata": {},
   "source": [
    "## 2.1 收集数据"
   ]
  },
  {
   "cell_type": "markdown",
   "metadata": {},
   "source": [
    "可以通过制作网络爬虫从网站上抽取数据等"
   ]
  },
  {
   "cell_type": "markdown",
   "metadata": {},
   "source": [
    "## 2.2 准备输入数据"
   ]
  },
  {
   "cell_type": "markdown",
   "metadata": {},
   "source": [
    "需要为机器学习算法准备特定的数据格式，如一些算法要求目标变量和特征值是字符串类型，而另一些算法可能要求是整数类型"
   ]
  },
  {
   "cell_type": "markdown",
   "metadata": {},
   "source": [
    "## 2.3 分析输入数据"
   ]
  },
  {
   "cell_type": "markdown",
   "metadata": {},
   "source": [
    "此步骤主要是人工分析之前得到的数据\n",
    "\n",
    "最简单的方法是用文本编辑器打开数据文件，查看得到的数据是否为空值\n",
    "\n",
    "还可以进一步浏览数据，分析是否存在明显的异常值\n",
    "\n",
    "可以将多维数据压缩到二维或三维，然后图形化数据"
   ]
  },
  {
   "cell_type": "markdown",
   "metadata": {},
   "source": [
    "## 2.4 训练算法"
   ]
  },
  {
   "cell_type": "markdown",
   "metadata": {},
   "source": [
    "将前两步得到的格式化的数据输入到算法，从中抽取知识或信息\n",
    "\n",
    "如果使用无监督算法，由于不存在目标变量值，故而也不需要训练算法"
   ]
  },
  {
   "cell_type": "markdown",
   "metadata": {},
   "source": [
    "## 2.5 测试算法"
   ]
  },
  {
   "cell_type": "markdown",
   "metadata": {},
   "source": [
    "对于监督学习，必须已知用于评估算法的目标变量值\n",
    "\n",
    "对于无监督学习，必须用其他的评测手段来检验算法的成功率"
   ]
  },
  {
   "cell_type": "markdown",
   "metadata": {},
   "source": [
    "## 2.6 使用算法"
   ]
  },
  {
   "cell_type": "markdown",
   "metadata": {},
   "source": [
    "# 3. NumPy函数库基础"
   ]
  },
  {
   "cell_type": "code",
   "execution_count": 17,
   "metadata": {},
   "outputs": [
    {
     "data": {
      "text/plain": [
       "array([[0.2045409 , 0.94179826, 0.61150781, 0.16075293],\n",
       "       [0.1535332 , 0.26277545, 0.44602274, 0.89383678],\n",
       "       [0.2179846 , 0.07344728, 0.30304273, 0.87085452],\n",
       "       [0.37263835, 0.21678841, 0.83606567, 0.17394002]])"
      ]
     },
     "execution_count": 17,
     "metadata": {},
     "output_type": "execute_result"
    }
   ],
   "source": [
    "from numpy import *\n",
    "\n",
    "random.rand(4, 4)"
   ]
  },
  {
   "cell_type": "code",
   "execution_count": 18,
   "metadata": {
    "scrolled": true
   },
   "outputs": [
    {
     "data": {
      "text/plain": [
       "matrix([[-0.54879981,  1.36251393, -0.46524644,  1.02999807],\n",
       "        [ 3.24361988,  0.97614903, -3.71876813, -0.26164045],\n",
       "        [-1.21291938,  0.95179943,  1.46289396, -0.03415313],\n",
       "        [-1.12427744, -2.42791192,  2.7677286 ,  0.19454125]])"
      ]
     },
     "execution_count": 18,
     "metadata": {},
     "output_type": "execute_result"
    }
   ],
   "source": [
    "randMat = mat(random.rand(4, 4))\n",
    "linalg.pinv(randMat)"
   ]
  },
  {
   "cell_type": "code",
   "execution_count": 19,
   "metadata": {
    "scrolled": true
   },
   "outputs": [
    {
     "data": {
      "text/plain": [
       "matrix([[ 1.00000000e+00, -1.11059426e-15,  1.94786274e-15,\n",
       "         -1.00216720e-16],\n",
       "        [-1.31949404e-15,  1.00000000e+00,  6.82657864e-16,\n",
       "          3.35672518e-17],\n",
       "        [-1.09866442e-15, -7.18894396e-17,  1.00000000e+00,\n",
       "         -4.38460377e-17],\n",
       "        [-7.78079250e-16, -1.25948276e-15,  1.73091837e-15,\n",
       "          1.00000000e+00]])"
      ]
     },
     "execution_count": 19,
     "metadata": {},
     "output_type": "execute_result"
    }
   ],
   "source": [
    "invRandMat = linalg.pinv(randMat)\n",
    "randMat * invRandMat"
   ]
  },
  {
   "cell_type": "code",
   "execution_count": 20,
   "metadata": {},
   "outputs": [
    {
     "data": {
      "text/plain": [
       "matrix([[-1.77635684e-15, -1.11059426e-15,  1.94786274e-15,\n",
       "         -1.00216720e-16],\n",
       "        [-1.31949404e-15,  4.44089210e-16,  6.82657864e-16,\n",
       "          3.35672518e-17],\n",
       "        [-1.09866442e-15, -7.18894396e-17,  8.88178420e-16,\n",
       "         -4.38460377e-17],\n",
       "        [-7.78079250e-16, -1.25948276e-15,  1.73091837e-15,\n",
       "          2.22044605e-16]])"
      ]
     },
     "execution_count": 20,
     "metadata": {},
     "output_type": "execute_result"
    }
   ],
   "source": [
    "myEye = randMat * invRandMat\n",
    "myEye - eye(4)"
   ]
  }
 ],
 "metadata": {
  "kernelspec": {
   "display_name": "Python [conda env:tensorflow2.1]",
   "language": "python",
   "name": "conda-env-tensorflow2.1-py"
  },
  "language_info": {
   "codemirror_mode": {
    "name": "ipython",
    "version": 3
   },
   "file_extension": ".py",
   "mimetype": "text/x-python",
   "name": "python",
   "nbconvert_exporter": "python",
   "pygments_lexer": "ipython3",
   "version": "3.7.7"
  },
  "toc": {
   "base_numbering": 1,
   "nav_menu": {},
   "number_sections": true,
   "sideBar": true,
   "skip_h1_title": false,
   "title_cell": "Table of Contents",
   "title_sidebar": "Contents",
   "toc_cell": false,
   "toc_position": {
    "height": "calc(100% - 180px)",
    "left": "10px",
    "top": "150px",
    "width": "384px"
   },
   "toc_section_display": true,
   "toc_window_display": true
  }
 },
 "nbformat": 4,
 "nbformat_minor": 2
}
